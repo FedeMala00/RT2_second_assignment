{
 "cells": [
  {
   "cell_type": "code",
   "execution_count": 1,
   "metadata": {},
   "outputs": [],
   "source": [
    "from __future__ import print_function\n",
    "import sys\n",
    "import rospy\n",
    "import time\n",
    "import tf\n",
    "import jupyros as jr\n",
    "from geometry_msgs.msg import Point, Pose, Twist\n",
    "from nav_msgs.msg import Odometry\n",
    "import actionlib\n",
    "import actionlib.msg\n",
    "import second_assignment.msg\n",
    "from second_assignment.msg import Pos_vel\n",
    "from second_assignment.msg import PlanningAction, PlanningGoal, PlanningResult\n",
    "from std_srvs.srv import SetBool\n",
    "from actionlib_msgs.msg import GoalStatus\n",
    "import numpy as np\n",
    "import matplotlib.pyplot as plt\n",
    "from matplotlib.animation import FuncAnimation\n",
    "from tf.transformations import quaternion_matrix\n",
    "import ipywidgets as widgets\n",
    "from IPython.display import display\n",
    "from ipywidgets import VBox, HBox   "
   ]
  },
  {
   "cell_type": "code",
   "execution_count": 2,
   "metadata": {},
   "outputs": [],
   "source": [
    "global x\n",
    "global y \n",
    "global client\n",
    "global var\n",
    "global goal_reached\n",
    "global latest_feedback\n",
    "global goal_list\n",
    "global num_reached_goals\n",
    "global num_goal_not_reached\n",
    "global first_goal\n",
    "global prev_not_reached\n",
    "\n",
    "num_reached_goals = 0\n",
    "num_goal_not_reached = 0\n",
    "prev_not_reached = 0\n",
    "first_goal = False\n",
    "goal_list = []\n",
    "\n",
    "rospy.init_node('node_action_client')\n",
    "client = actionlib.SimpleActionClient('/reaching_goal', second_assignment.msg.PlanningAction)"
   ]
  },
  {
   "cell_type": "code",
   "execution_count": 3,
   "metadata": {},
   "outputs": [],
   "source": [
    "def feedback_cb(feedback):\n",
    "    global latest_feedback\n",
    "    latest_feedback = feedback"
   ]
  },
  {
   "cell_type": "code",
   "execution_count": 4,
   "metadata": {},
   "outputs": [
    {
     "data": {
      "application/vnd.jupyter.widget-view+json": {
       "model_id": "d28cd268c4c84ec3a5c0a870c80981a8",
       "version_major": 2,
       "version_minor": 0
      },
      "text/plain": [
       "HBox(children=(VBox(children=(Text(value='', continuous_update=False, description='x coordinate:'), Text(value…"
      ]
     },
     "metadata": {},
     "output_type": "display_data"
    },
    {
     "name": "stdout",
     "output_type": "stream",
     "text": [
      "User input for x: 2.0\n",
      "User input for y: 2.0\n"
     ]
    }
   ],
   "source": [
    "# Create a publisher that will publish to the 'goal_list' topic to display the goals in the map\n",
    "pub = rospy.Publisher('goal_list', Pos_vel, queue_size=10)\n",
    "\n",
    "# Widgets for the user to input the goal coordinates and confirm them with a button\n",
    "x_input = widgets.Text(description='x coordinate:', continuous_update=False)\n",
    "y_input = widgets.Text(description='y coordinate:', continuous_update=False)\n",
    "button = widgets.Button(description=\"Confirm\")\n",
    "\n",
    "x, y = None, None\n",
    "goal_list = []\n",
    "\n",
    "# Functions to handle the user input and the button click\n",
    "def handle_x_input(change):\n",
    "    global x\n",
    "    x = float(change.new)\n",
    "\n",
    "def handle_y_input(change):\n",
    "    global y\n",
    "    y = float(change.new)\n",
    "\n",
    "def on_button_clicked(b):\n",
    "    global x, y, first_goal\n",
    "    print(\"User input for x:\", x)\n",
    "    print(\"User input for y:\", y)\n",
    "    # Set the first goal to True in order to allow the display of the histogram\n",
    "    first_goal = True\n",
    "    # Send the goal to the action server using a custom send_goal function\n",
    "    send_goal() \n",
    "\n",
    "x_input.observe(handle_x_input, names='value')\n",
    "y_input.observe(handle_y_input, names='value')\n",
    "\n",
    "# Set the on_click event of the button\n",
    "button.on_click(on_button_clicked)\n",
    "\n",
    "def send_goal():\n",
    "    global x\n",
    "    global y\n",
    "    global goal_list\n",
    "    client.wait_for_server()\n",
    "    \n",
    "    rospy.set_param('/des_pos_x', x)\n",
    "    rospy.set_param('/des_pos_y', y)\n",
    "    \n",
    "    pos_vel = Pos_vel()\n",
    "    pos_vel.x = x\n",
    "    pos_vel.y = y\n",
    "\n",
    "    goal_list.append([x,y])\n",
    "    \n",
    "    # Publish the goal to the topic goal_list to be displayed in the map\n",
    "    pub.publish(pos_vel)\n",
    "\n",
    "    goal = second_assignment.msg.PlanningGoal()\n",
    "    goal.target_pose.pose.position.x = x\n",
    "    goal.target_pose.pose.position.y = y\n",
    "    client.send_goal(goal, feedback_cb=feedback_cb)\n",
    "\n",
    "# Widgets for the user to cancel the goal and display the goals sent\n",
    "cancel_button = widgets.Button(description=\"Cancel Goal\")\n",
    "goal_sent_button = widgets.Button(description=\"Display Goal Sent\")\n",
    "\n",
    "# Function to handle the button click to cancel the goal\n",
    "def on_cancel_button_clicked(b):\n",
    "    global num_goal_not_reached \n",
    "    global prev_not_reached\n",
    "    client.cancel_goal()\n",
    "    rospy.loginfo(\"Goal cancelled\")\n",
    "    # Increment the number of goals not reached\n",
    "    num_goal_not_reached = num_goal_not_reached  + 1\n",
    "    # Store the previous number of goals not reached which is the current number of goals not reached - 1\n",
    "    prev_not_reached = num_goal_not_reached - 1 \n",
    "    time.sleep(0.1)\n",
    "    print(\"Reinsert the goal and confirm it using the Confirm button\")\n",
    "    x_input.observe(handle_x_input, names='value')\n",
    "    y_input.observe(handle_y_input, names='value')\n",
    "\n",
    "    button.on_click(on_button_clicked)\n",
    "\n",
    "def on_goal_sent_button_clicked(b):\n",
    "    print(\"List of goals sent: \", goal_list)\n",
    "\n",
    "cancel_button.on_click(on_cancel_button_clicked)\n",
    "goal_sent_button.on_click(on_goal_sent_button_clicked)\n",
    "\n",
    "# Display the widgets in a particurlar layout\n",
    "left_box = VBox([x_input, y_input, button])\n",
    "right_box = VBox([cancel_button, goal_sent_button])\n",
    "HBox([left_box, right_box])\n",
    "\n"
   ]
  },
  {
   "cell_type": "code",
   "execution_count": 5,
   "metadata": {},
   "outputs": [],
   "source": [
    "# Class to visualize the robot's path and the goals in the map using matplotlib, it's the one from the slides\n",
    "# with some modifications to display the goals (the target callback) that exploits the publisher created above with the custom message used\n",
    "# in the assignment in the first semester\n",
    "class Visualiser:\n",
    "    def __init__(self):\n",
    "        self.fig, self.ax = plt.subplots()\n",
    "        self.ln, = plt.plot([], [], 'ro')  \n",
    "        self.ln_target, = plt.plot([], [], 'bo')\n",
    "        self.x_data, self.y_data = [], []\n",
    "        self.x_target_data, self.y_target_data = [], []\n",
    "\n",
    "    def plot_init(self):\n",
    "        self.ax.set_xlim(-10, 10)\n",
    "        self.ax.set_ylim(-10, 10)\n",
    "        return self.ln, self.ln_target\n",
    "\n",
    "    def odom_callback(self, msg):\n",
    "        self.y_data.append(msg.pose.pose.position.y)\n",
    "        self.x_data.append(msg.pose.pose.position.x)\n",
    "\n",
    "    def target_callback(self, msg):\n",
    "        self.y_target_data.append(msg.x)\n",
    "        self.x_target_data.append(msg.y)\n",
    "\n",
    "    def update_plot(self, frame):\n",
    "        self.ln.set_data(self.x_data, self.y_data)\n",
    "        self.ln_target.set_data(self.x_target_data, self.y_target_data)\n",
    "        return self.ln, self.ln_target"
   ]
  },
  {
   "cell_type": "code",
   "execution_count": 6,
   "metadata": {},
   "outputs": [
    {
     "data": {
      "application/vnd.jupyter.widget-view+json": {
       "model_id": "d8d2bc7ef1024992b559ab5999891e36",
       "version_major": 2,
       "version_minor": 0
      },
      "image/png": "[encoded data removed]",
      "text/html": [
       "\n",
       "            <div style=\"display: inline-block;\">\n",
       "                <div class=\"jupyter-widgets widget-label\" style=\"text-align: center;\">\n",
       "                    Figure\n",
       "                </div>\n",
       "                <img src='data:image/png;base64,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' width=640.0/>\n",
       "            </div>\n",
       "        "
      ],
      "text/plain": [
       "Canvas(toolbar=Toolbar(toolitems=[('Home', 'Reset original view', 'home', 'home'), ('Back', 'Back to previous …"
      ]
     },
     "metadata": {},
     "output_type": "display_data"
    },
    {
     "name": "stdout",
     "output_type": "stream",
     "text": [
      "Number of goals reached:  1\n",
      "Number of goals not reached:  0\n"
     ]
    }
   ],
   "source": [
    "%matplotlib widget\n",
    "\n",
    "vis = Visualiser()\n",
    "# subscriber to the topic odom to get the position of the robot \n",
    "sub = rospy.Subscriber('/odom', Odometry, vis.odom_callback)\n",
    "\n",
    "# subscriber to the topic goal_list to get the target position that is continuously updated\n",
    "sub_2 = rospy.Subscriber('/goal_list', Pos_vel, vis.target_callback)\n",
    "\n",
    "ani = FuncAnimation(vis.fig, vis.update_plot, init_func=vis.plot_init, blit=True)\n",
    "plt.show(block=True)"
   ]
  },
  {
   "cell_type": "code",
   "execution_count": 7,
   "metadata": {},
   "outputs": [
    {
     "data": {
      "application/vnd.jupyter.widget-view+json": {
       "model_id": "b8a2139956234c23bc1b33abb6e4a72b",
       "version_major": 2,
       "version_minor": 0
      },
      "image/png": "[encoded data removed]",
      "text/html": [
       "\n",
       "            <div style=\"display: inline-block;\">\n",
       "                <div class=\"jupyter-widgets widget-label\" style=\"text-align: center;\">\n",
       "                    Figure\n",
       "                </div>\n",
       "                <img src='data:image/png;base64,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' width=640.0/>\n",
       "            </div>\n",
       "        "
      ],
      "text/plain": [
       "Canvas(toolbar=Toolbar(toolitems=[('Home', 'Reset original view', 'home', 'home'), ('Back', 'Back to previous …"
      ]
     },
     "metadata": {},
     "output_type": "display_data"
    }
   ],
   "source": [
    "\n",
    "global pos_vel\n",
    "pos_vel = Pos_vel()\n",
    "\n",
    "# Define labels for the bar chart\n",
    "labels = ['Reached Goals', 'Not Reached Goals']\n",
    "\n",
    "# Create a new figure and a set of subplots\n",
    "fig, ax = plt.subplots()\n",
    "\n",
    "def position_callback(message):\n",
    "    global pos_vel\n",
    "    global first_goal\n",
    "    global num_reached_goals\n",
    "    global num_goal_not_reached\n",
    "    global goal_list\n",
    "    global prev_not_reached\n",
    "    pos_vel.x = message.pose.pose.position.x\n",
    "    pos_vel.y = message.pose.pose.position.y\n",
    "\n",
    "    # Calculate the difference between the number of goals not reached and the previous number of goals not reached\n",
    "    diff = num_goal_not_reached - prev_not_reached\n",
    "    # If a goal is sent\n",
    "    if first_goal == True:\n",
    "        # If the robot reaches the goal\n",
    "        if (pos_vel.x - 0.5 < x < pos_vel.x + 0.5 and pos_vel.y - 0.5 < y < pos_vel.y + 0.5): \n",
    "            # Increment the number of goals reached\n",
    "            num_reached_goals = num_reached_goals + 1\n",
    "            first_goal = False\n",
    "\n",
    "            print(\"Number of goals reached: \", num_reached_goals)\n",
    "            print(\"Number of goals not reached: \", num_goal_not_reached)\n",
    "\n",
    "            # Plot the istogram with the updated values\n",
    "            ax.clear()\n",
    "            values = [num_reached_goals, num_goal_not_reached]\n",
    "            ax.bar(labels, values)\n",
    "            ax.set_title('Goals Status')\n",
    "            ax.set_ylabel('Number of Goals')\n",
    "\n",
    "        # If a goal has been cancelled\n",
    "        elif diff != 0:\n",
    "            # Set the previous number of goals not reached to the current number of goals not reached\n",
    "            prev_not_reached = num_goal_not_reached\n",
    "            first_goal = False\n",
    "            \n",
    "            ax.clear()\n",
    "            values = [num_reached_goals, num_goal_not_reached]\n",
    "            ax.bar(labels, values)\n",
    "            ax.set_title('Goals Status')\n",
    "            ax.set_ylabel('Number of Goals')\n",
    "\n",
    "\n",
    "sub_3 = rospy.Subscriber('/odom', Odometry, position_callback)\n",
    "\n",
    "ani_2 = FuncAnimation(fig, position_callback, frames=range(100), repeat=False)\n",
    "plt.show()"
   ]
  }
 ],
 "metadata": {
  "kernelspec": {
   "display_name": "Python 3",
   "language": "python",
   "name": "python3"
  },
  "language_info": {
   "codemirror_mode": {
    "name": "ipython",
    "version": 3
   },
   "file_extension": ".py",
   "mimetype": "text/x-python",
   "name": "python",
   "nbconvert_exporter": "python",
   "pygments_lexer": "ipython3",
   "version": "3.10.12"
  }
 },
 "nbformat": 4,
 "nbformat_minor": 2
}
